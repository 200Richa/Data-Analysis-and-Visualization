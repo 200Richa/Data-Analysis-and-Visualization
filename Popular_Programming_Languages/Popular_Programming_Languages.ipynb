{
  "nbformat": 4,
  "nbformat_minor": 0,
  "metadata": {
    "colab": {
      "name": "Popular_Programming_Languages.ipynb",
      "provenance": [],
      "authorship_tag": "ABX9TyN749T1G2yC9OxIbqS+zptt",
      "include_colab_link": true
    },
    "kernelspec": {
      "name": "python3",
      "display_name": "Python 3"
    },
    "language_info": {
      "name": "python"
    }
  },
  "cells": [
    {
      "cell_type": "markdown",
      "metadata": {
        "id": "view-in-github",
        "colab_type": "text"
      },
      "source": [
        "<a href=\"https://colab.research.google.com/github/200Richa/Data-Analysis-and-Visualization/blob/main/Popular_Programming_Languages/Popular_Programming_Languages.ipynb\" target=\"_parent\"><img src=\"https://colab.research.google.com/assets/colab-badge.svg\" alt=\"Open In Colab\"/></a>"
      ]
    },
    {
      "cell_type": "markdown",
      "source": [
        "# **Analyse the Popularity of Different Programming Languages over Time**\n",
        "\n",
        "![Languages](https://img-c.udemycdn.com/redactor/raw/2020-10-10_09-21-02-599838d7e6f3adad2ebb79ad437120da.jpg)\n",
        "\n",
        "\n",
        "\n",
        "---\n",
        "\n",
        "The oldest programming language still in use today is FORTRAN, which was developed in 1957. Since then many other programming languages have been developed. But which programming language is the most popular? Which programming language is the Kim Kardashian of programming languages; the one people just can't stop talking about?\n",
        "\n",
        "\n",
        "---\n",
        "StackOverflow will help us answer this burning question. Each post on Stack OverFlow comes with a Tag. And this Tag can be the name of a programming language.\n",
        "\n",
        "To figure out which language is the most popular, all we need to do is count the number of posts on Stack Overflow that are tagged with each language. The language with the most posts wins!\n"
      ],
      "metadata": {
        "id": "CdEI325JGY_k"
      }
    },
    {
      "cell_type": "code",
      "execution_count": null,
      "metadata": {
        "id": "z45vGzXkGIoY"
      },
      "outputs": [],
      "source": [
        ""
      ]
    }
  ]
}